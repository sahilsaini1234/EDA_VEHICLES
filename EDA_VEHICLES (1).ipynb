{
 "cells": [
  {
   "cell_type": "markdown",
   "id": "d2840295",
   "metadata": {},
   "source": [
    "# EDA_USED VEHICLES\n",
    "Used Cars Dataset on #kaggle via @KaggleDatasets<br> https://www.kaggle.com/datasets/austinreese/craigslist-carstrucks-data?utm_medium=social&utm_campaign=kaggle-dataset-share&utm_source=twitter "
   ]
  },
  {
   "cell_type": "markdown",
   "id": "403050c6",
   "metadata": {},
   "source": [
    "# Analysis to be done\n",
    "Analysis of manufracturer of the car(Number of unique brands,most used car's brand,top 10 brands in used car)<br>\n",
    "Analysis of price(Range of price price in which most car lies,Average price of Top car brands,most expensive car brand)<br>\n",
    "Analysis of odometer(Range in which of most odometer of car lie,Average odometer reading of top 10 brands,Most relevent car brand)<br>\n",
    "Analysis of year(Range of year in which most car lie,Most vintage car)<br>\n",
    "Analysis of type,fuel and many more<br>\n"
   ]
  },
  {
   "cell_type": "markdown",
   "id": "5c70b52e",
   "metadata": {},
   "source": [
    "# IMPORTING THR REQUIRED LIBRARY"
   ]
  },
  {
   "cell_type": "code",
   "execution_count": 44,
   "id": "8a979622",
   "metadata": {},
   "outputs": [],
   "source": [
    "import pandas as pd\n",
    "import matplotlib.pyplot as plt\n",
    "import seaborn as sns\n",
    "sns.set_style(\"whitegrid\")\n",
    "%matplotlib inline"
   ]
  },
  {
   "cell_type": "code",
   "execution_count": 45,
   "id": "81010bed",
   "metadata": {},
   "outputs": [
    {
     "data": {
      "text/html": [
       "<div>\n",
       "<style scoped>\n",
       "    .dataframe tbody tr th:only-of-type {\n",
       "        vertical-align: middle;\n",
       "    }\n",
       "\n",
       "    .dataframe tbody tr th {\n",
       "        vertical-align: top;\n",
       "    }\n",
       "\n",
       "    .dataframe thead th {\n",
       "        text-align: right;\n",
       "    }\n",
       "</style>\n",
       "<table border=\"1\" class=\"dataframe\">\n",
       "  <thead>\n",
       "    <tr style=\"text-align: right;\">\n",
       "      <th></th>\n",
       "      <th>id</th>\n",
       "      <th>url</th>\n",
       "      <th>region</th>\n",
       "      <th>region_url</th>\n",
       "      <th>price</th>\n",
       "      <th>year</th>\n",
       "      <th>manufacturer</th>\n",
       "      <th>model</th>\n",
       "      <th>condition</th>\n",
       "      <th>cylinders</th>\n",
       "      <th>...</th>\n",
       "      <th>size</th>\n",
       "      <th>type</th>\n",
       "      <th>paint_color</th>\n",
       "      <th>image_url</th>\n",
       "      <th>description</th>\n",
       "      <th>county</th>\n",
       "      <th>state</th>\n",
       "      <th>lat</th>\n",
       "      <th>long</th>\n",
       "      <th>posting_date</th>\n",
       "    </tr>\n",
       "  </thead>\n",
       "  <tbody>\n",
       "    <tr>\n",
       "      <th>0</th>\n",
       "      <td>7222695916</td>\n",
       "      <td>https://prescott.craigslist.org/cto/d/prescott...</td>\n",
       "      <td>prescott</td>\n",
       "      <td>https://prescott.craigslist.org</td>\n",
       "      <td>6000</td>\n",
       "      <td>NaN</td>\n",
       "      <td>NaN</td>\n",
       "      <td>NaN</td>\n",
       "      <td>NaN</td>\n",
       "      <td>NaN</td>\n",
       "      <td>...</td>\n",
       "      <td>NaN</td>\n",
       "      <td>NaN</td>\n",
       "      <td>NaN</td>\n",
       "      <td>NaN</td>\n",
       "      <td>NaN</td>\n",
       "      <td>NaN</td>\n",
       "      <td>az</td>\n",
       "      <td>NaN</td>\n",
       "      <td>NaN</td>\n",
       "      <td>NaN</td>\n",
       "    </tr>\n",
       "    <tr>\n",
       "      <th>1</th>\n",
       "      <td>7218891961</td>\n",
       "      <td>https://fayar.craigslist.org/ctd/d/bentonville...</td>\n",
       "      <td>fayetteville</td>\n",
       "      <td>https://fayar.craigslist.org</td>\n",
       "      <td>11900</td>\n",
       "      <td>NaN</td>\n",
       "      <td>NaN</td>\n",
       "      <td>NaN</td>\n",
       "      <td>NaN</td>\n",
       "      <td>NaN</td>\n",
       "      <td>...</td>\n",
       "      <td>NaN</td>\n",
       "      <td>NaN</td>\n",
       "      <td>NaN</td>\n",
       "      <td>NaN</td>\n",
       "      <td>NaN</td>\n",
       "      <td>NaN</td>\n",
       "      <td>ar</td>\n",
       "      <td>NaN</td>\n",
       "      <td>NaN</td>\n",
       "      <td>NaN</td>\n",
       "    </tr>\n",
       "    <tr>\n",
       "      <th>2</th>\n",
       "      <td>7221797935</td>\n",
       "      <td>https://keys.craigslist.org/cto/d/summerland-k...</td>\n",
       "      <td>florida keys</td>\n",
       "      <td>https://keys.craigslist.org</td>\n",
       "      <td>21000</td>\n",
       "      <td>NaN</td>\n",
       "      <td>NaN</td>\n",
       "      <td>NaN</td>\n",
       "      <td>NaN</td>\n",
       "      <td>NaN</td>\n",
       "      <td>...</td>\n",
       "      <td>NaN</td>\n",
       "      <td>NaN</td>\n",
       "      <td>NaN</td>\n",
       "      <td>NaN</td>\n",
       "      <td>NaN</td>\n",
       "      <td>NaN</td>\n",
       "      <td>fl</td>\n",
       "      <td>NaN</td>\n",
       "      <td>NaN</td>\n",
       "      <td>NaN</td>\n",
       "    </tr>\n",
       "    <tr>\n",
       "      <th>3</th>\n",
       "      <td>7222270760</td>\n",
       "      <td>https://worcester.craigslist.org/cto/d/west-br...</td>\n",
       "      <td>worcester / central MA</td>\n",
       "      <td>https://worcester.craigslist.org</td>\n",
       "      <td>1500</td>\n",
       "      <td>NaN</td>\n",
       "      <td>NaN</td>\n",
       "      <td>NaN</td>\n",
       "      <td>NaN</td>\n",
       "      <td>NaN</td>\n",
       "      <td>...</td>\n",
       "      <td>NaN</td>\n",
       "      <td>NaN</td>\n",
       "      <td>NaN</td>\n",
       "      <td>NaN</td>\n",
       "      <td>NaN</td>\n",
       "      <td>NaN</td>\n",
       "      <td>ma</td>\n",
       "      <td>NaN</td>\n",
       "      <td>NaN</td>\n",
       "      <td>NaN</td>\n",
       "    </tr>\n",
       "    <tr>\n",
       "      <th>4</th>\n",
       "      <td>7210384030</td>\n",
       "      <td>https://greensboro.craigslist.org/cto/d/trinit...</td>\n",
       "      <td>greensboro</td>\n",
       "      <td>https://greensboro.craigslist.org</td>\n",
       "      <td>4900</td>\n",
       "      <td>NaN</td>\n",
       "      <td>NaN</td>\n",
       "      <td>NaN</td>\n",
       "      <td>NaN</td>\n",
       "      <td>NaN</td>\n",
       "      <td>...</td>\n",
       "      <td>NaN</td>\n",
       "      <td>NaN</td>\n",
       "      <td>NaN</td>\n",
       "      <td>NaN</td>\n",
       "      <td>NaN</td>\n",
       "      <td>NaN</td>\n",
       "      <td>nc</td>\n",
       "      <td>NaN</td>\n",
       "      <td>NaN</td>\n",
       "      <td>NaN</td>\n",
       "    </tr>\n",
       "    <tr>\n",
       "      <th>...</th>\n",
       "      <td>...</td>\n",
       "      <td>...</td>\n",
       "      <td>...</td>\n",
       "      <td>...</td>\n",
       "      <td>...</td>\n",
       "      <td>...</td>\n",
       "      <td>...</td>\n",
       "      <td>...</td>\n",
       "      <td>...</td>\n",
       "      <td>...</td>\n",
       "      <td>...</td>\n",
       "      <td>...</td>\n",
       "      <td>...</td>\n",
       "      <td>...</td>\n",
       "      <td>...</td>\n",
       "      <td>...</td>\n",
       "      <td>...</td>\n",
       "      <td>...</td>\n",
       "      <td>...</td>\n",
       "      <td>...</td>\n",
       "      <td>...</td>\n",
       "    </tr>\n",
       "    <tr>\n",
       "      <th>426875</th>\n",
       "      <td>7301591192</td>\n",
       "      <td>https://wyoming.craigslist.org/ctd/d/atlanta-2...</td>\n",
       "      <td>wyoming</td>\n",
       "      <td>https://wyoming.craigslist.org</td>\n",
       "      <td>23590</td>\n",
       "      <td>2019.0</td>\n",
       "      <td>nissan</td>\n",
       "      <td>maxima s sedan 4d</td>\n",
       "      <td>good</td>\n",
       "      <td>6 cylinders</td>\n",
       "      <td>...</td>\n",
       "      <td>NaN</td>\n",
       "      <td>sedan</td>\n",
       "      <td>NaN</td>\n",
       "      <td>https://images.craigslist.org/00o0o_iiraFnHg8q...</td>\n",
       "      <td>Carvana is the safer way to buy a car During t...</td>\n",
       "      <td>NaN</td>\n",
       "      <td>wy</td>\n",
       "      <td>33.786500</td>\n",
       "      <td>-84.445400</td>\n",
       "      <td>2021-04-04T03:21:31-0600</td>\n",
       "    </tr>\n",
       "    <tr>\n",
       "      <th>426876</th>\n",
       "      <td>7301591187</td>\n",
       "      <td>https://wyoming.craigslist.org/ctd/d/atlanta-2...</td>\n",
       "      <td>wyoming</td>\n",
       "      <td>https://wyoming.craigslist.org</td>\n",
       "      <td>30590</td>\n",
       "      <td>2020.0</td>\n",
       "      <td>volvo</td>\n",
       "      <td>s60 t5 momentum sedan 4d</td>\n",
       "      <td>good</td>\n",
       "      <td>NaN</td>\n",
       "      <td>...</td>\n",
       "      <td>NaN</td>\n",
       "      <td>sedan</td>\n",
       "      <td>red</td>\n",
       "      <td>https://images.craigslist.org/00x0x_15sbgnxCIS...</td>\n",
       "      <td>Carvana is the safer way to buy a car During t...</td>\n",
       "      <td>NaN</td>\n",
       "      <td>wy</td>\n",
       "      <td>33.786500</td>\n",
       "      <td>-84.445400</td>\n",
       "      <td>2021-04-04T03:21:29-0600</td>\n",
       "    </tr>\n",
       "    <tr>\n",
       "      <th>426877</th>\n",
       "      <td>7301591147</td>\n",
       "      <td>https://wyoming.craigslist.org/ctd/d/atlanta-2...</td>\n",
       "      <td>wyoming</td>\n",
       "      <td>https://wyoming.craigslist.org</td>\n",
       "      <td>34990</td>\n",
       "      <td>2020.0</td>\n",
       "      <td>cadillac</td>\n",
       "      <td>xt4 sport suv 4d</td>\n",
       "      <td>good</td>\n",
       "      <td>NaN</td>\n",
       "      <td>...</td>\n",
       "      <td>NaN</td>\n",
       "      <td>hatchback</td>\n",
       "      <td>white</td>\n",
       "      <td>https://images.craigslist.org/00L0L_farM7bxnxR...</td>\n",
       "      <td>Carvana is the safer way to buy a car During t...</td>\n",
       "      <td>NaN</td>\n",
       "      <td>wy</td>\n",
       "      <td>33.779214</td>\n",
       "      <td>-84.411811</td>\n",
       "      <td>2021-04-04T03:21:17-0600</td>\n",
       "    </tr>\n",
       "    <tr>\n",
       "      <th>426878</th>\n",
       "      <td>7301591140</td>\n",
       "      <td>https://wyoming.craigslist.org/ctd/d/atlanta-2...</td>\n",
       "      <td>wyoming</td>\n",
       "      <td>https://wyoming.craigslist.org</td>\n",
       "      <td>28990</td>\n",
       "      <td>2018.0</td>\n",
       "      <td>lexus</td>\n",
       "      <td>es 350 sedan 4d</td>\n",
       "      <td>good</td>\n",
       "      <td>6 cylinders</td>\n",
       "      <td>...</td>\n",
       "      <td>NaN</td>\n",
       "      <td>sedan</td>\n",
       "      <td>silver</td>\n",
       "      <td>https://images.craigslist.org/00z0z_bKnIVGLkDT...</td>\n",
       "      <td>Carvana is the safer way to buy a car During t...</td>\n",
       "      <td>NaN</td>\n",
       "      <td>wy</td>\n",
       "      <td>33.786500</td>\n",
       "      <td>-84.445400</td>\n",
       "      <td>2021-04-04T03:21:11-0600</td>\n",
       "    </tr>\n",
       "    <tr>\n",
       "      <th>426879</th>\n",
       "      <td>7301591129</td>\n",
       "      <td>https://wyoming.craigslist.org/ctd/d/atlanta-2...</td>\n",
       "      <td>wyoming</td>\n",
       "      <td>https://wyoming.craigslist.org</td>\n",
       "      <td>30590</td>\n",
       "      <td>2019.0</td>\n",
       "      <td>bmw</td>\n",
       "      <td>4 series 430i gran coupe</td>\n",
       "      <td>good</td>\n",
       "      <td>NaN</td>\n",
       "      <td>...</td>\n",
       "      <td>NaN</td>\n",
       "      <td>coupe</td>\n",
       "      <td>NaN</td>\n",
       "      <td>https://images.craigslist.org/00Y0Y_lEUocjyRxa...</td>\n",
       "      <td>Carvana is the safer way to buy a car During t...</td>\n",
       "      <td>NaN</td>\n",
       "      <td>wy</td>\n",
       "      <td>33.779214</td>\n",
       "      <td>-84.411811</td>\n",
       "      <td>2021-04-04T03:21:07-0600</td>\n",
       "    </tr>\n",
       "  </tbody>\n",
       "</table>\n",
       "<p>426880 rows × 26 columns</p>\n",
       "</div>"
      ],
      "text/plain": [
       "                id                                                url  \\\n",
       "0       7222695916  https://prescott.craigslist.org/cto/d/prescott...   \n",
       "1       7218891961  https://fayar.craigslist.org/ctd/d/bentonville...   \n",
       "2       7221797935  https://keys.craigslist.org/cto/d/summerland-k...   \n",
       "3       7222270760  https://worcester.craigslist.org/cto/d/west-br...   \n",
       "4       7210384030  https://greensboro.craigslist.org/cto/d/trinit...   \n",
       "...            ...                                                ...   \n",
       "426875  7301591192  https://wyoming.craigslist.org/ctd/d/atlanta-2...   \n",
       "426876  7301591187  https://wyoming.craigslist.org/ctd/d/atlanta-2...   \n",
       "426877  7301591147  https://wyoming.craigslist.org/ctd/d/atlanta-2...   \n",
       "426878  7301591140  https://wyoming.craigslist.org/ctd/d/atlanta-2...   \n",
       "426879  7301591129  https://wyoming.craigslist.org/ctd/d/atlanta-2...   \n",
       "\n",
       "                        region                         region_url  price  \\\n",
       "0                     prescott    https://prescott.craigslist.org   6000   \n",
       "1                 fayetteville       https://fayar.craigslist.org  11900   \n",
       "2                 florida keys        https://keys.craigslist.org  21000   \n",
       "3       worcester / central MA   https://worcester.craigslist.org   1500   \n",
       "4                   greensboro  https://greensboro.craigslist.org   4900   \n",
       "...                        ...                                ...    ...   \n",
       "426875                 wyoming     https://wyoming.craigslist.org  23590   \n",
       "426876                 wyoming     https://wyoming.craigslist.org  30590   \n",
       "426877                 wyoming     https://wyoming.craigslist.org  34990   \n",
       "426878                 wyoming     https://wyoming.craigslist.org  28990   \n",
       "426879                 wyoming     https://wyoming.craigslist.org  30590   \n",
       "\n",
       "          year manufacturer                     model condition    cylinders  \\\n",
       "0          NaN          NaN                       NaN       NaN          NaN   \n",
       "1          NaN          NaN                       NaN       NaN          NaN   \n",
       "2          NaN          NaN                       NaN       NaN          NaN   \n",
       "3          NaN          NaN                       NaN       NaN          NaN   \n",
       "4          NaN          NaN                       NaN       NaN          NaN   \n",
       "...        ...          ...                       ...       ...          ...   \n",
       "426875  2019.0       nissan         maxima s sedan 4d      good  6 cylinders   \n",
       "426876  2020.0        volvo  s60 t5 momentum sedan 4d      good          NaN   \n",
       "426877  2020.0     cadillac          xt4 sport suv 4d      good          NaN   \n",
       "426878  2018.0        lexus           es 350 sedan 4d      good  6 cylinders   \n",
       "426879  2019.0          bmw  4 series 430i gran coupe      good          NaN   \n",
       "\n",
       "        ... size       type paint_color  \\\n",
       "0       ...  NaN        NaN         NaN   \n",
       "1       ...  NaN        NaN         NaN   \n",
       "2       ...  NaN        NaN         NaN   \n",
       "3       ...  NaN        NaN         NaN   \n",
       "4       ...  NaN        NaN         NaN   \n",
       "...     ...  ...        ...         ...   \n",
       "426875  ...  NaN      sedan         NaN   \n",
       "426876  ...  NaN      sedan         red   \n",
       "426877  ...  NaN  hatchback       white   \n",
       "426878  ...  NaN      sedan      silver   \n",
       "426879  ...  NaN      coupe         NaN   \n",
       "\n",
       "                                                image_url  \\\n",
       "0                                                     NaN   \n",
       "1                                                     NaN   \n",
       "2                                                     NaN   \n",
       "3                                                     NaN   \n",
       "4                                                     NaN   \n",
       "...                                                   ...   \n",
       "426875  https://images.craigslist.org/00o0o_iiraFnHg8q...   \n",
       "426876  https://images.craigslist.org/00x0x_15sbgnxCIS...   \n",
       "426877  https://images.craigslist.org/00L0L_farM7bxnxR...   \n",
       "426878  https://images.craigslist.org/00z0z_bKnIVGLkDT...   \n",
       "426879  https://images.craigslist.org/00Y0Y_lEUocjyRxa...   \n",
       "\n",
       "                                              description county state  \\\n",
       "0                                                     NaN    NaN    az   \n",
       "1                                                     NaN    NaN    ar   \n",
       "2                                                     NaN    NaN    fl   \n",
       "3                                                     NaN    NaN    ma   \n",
       "4                                                     NaN    NaN    nc   \n",
       "...                                                   ...    ...   ...   \n",
       "426875  Carvana is the safer way to buy a car During t...    NaN    wy   \n",
       "426876  Carvana is the safer way to buy a car During t...    NaN    wy   \n",
       "426877  Carvana is the safer way to buy a car During t...    NaN    wy   \n",
       "426878  Carvana is the safer way to buy a car During t...    NaN    wy   \n",
       "426879  Carvana is the safer way to buy a car During t...    NaN    wy   \n",
       "\n",
       "              lat       long              posting_date  \n",
       "0             NaN        NaN                       NaN  \n",
       "1             NaN        NaN                       NaN  \n",
       "2             NaN        NaN                       NaN  \n",
       "3             NaN        NaN                       NaN  \n",
       "4             NaN        NaN                       NaN  \n",
       "...           ...        ...                       ...  \n",
       "426875  33.786500 -84.445400  2021-04-04T03:21:31-0600  \n",
       "426876  33.786500 -84.445400  2021-04-04T03:21:29-0600  \n",
       "426877  33.779214 -84.411811  2021-04-04T03:21:17-0600  \n",
       "426878  33.786500 -84.445400  2021-04-04T03:21:11-0600  \n",
       "426879  33.779214 -84.411811  2021-04-04T03:21:07-0600  \n",
       "\n",
       "[426880 rows x 26 columns]"
      ]
     },
     "execution_count": 45,
     "metadata": {},
     "output_type": "execute_result"
    }
   ],
   "source": [
    "#reading the files\n",
    "data=pd.read_csv('vehicles.csv')\n",
    "data"
   ]
  },
  {
   "cell_type": "code",
   "execution_count": 46,
   "id": "260140b4",
   "metadata": {},
   "outputs": [
    {
     "data": {
      "text/html": [
       "<div>\n",
       "<style scoped>\n",
       "    .dataframe tbody tr th:only-of-type {\n",
       "        vertical-align: middle;\n",
       "    }\n",
       "\n",
       "    .dataframe tbody tr th {\n",
       "        vertical-align: top;\n",
       "    }\n",
       "\n",
       "    .dataframe thead th {\n",
       "        text-align: right;\n",
       "    }\n",
       "</style>\n",
       "<table border=\"1\" class=\"dataframe\">\n",
       "  <thead>\n",
       "    <tr style=\"text-align: right;\">\n",
       "      <th></th>\n",
       "      <th>id</th>\n",
       "      <th>url</th>\n",
       "      <th>region</th>\n",
       "      <th>region_url</th>\n",
       "      <th>price</th>\n",
       "      <th>year</th>\n",
       "      <th>manufacturer</th>\n",
       "      <th>model</th>\n",
       "      <th>condition</th>\n",
       "      <th>cylinders</th>\n",
       "      <th>...</th>\n",
       "      <th>size</th>\n",
       "      <th>type</th>\n",
       "      <th>paint_color</th>\n",
       "      <th>image_url</th>\n",
       "      <th>description</th>\n",
       "      <th>county</th>\n",
       "      <th>state</th>\n",
       "      <th>lat</th>\n",
       "      <th>long</th>\n",
       "      <th>posting_date</th>\n",
       "    </tr>\n",
       "  </thead>\n",
       "  <tbody>\n",
       "    <tr>\n",
       "      <th>count</th>\n",
       "      <td>4.268800e+05</td>\n",
       "      <td>426880</td>\n",
       "      <td>426880</td>\n",
       "      <td>426880</td>\n",
       "      <td>4.268800e+05</td>\n",
       "      <td>425675.000000</td>\n",
       "      <td>409234</td>\n",
       "      <td>421603</td>\n",
       "      <td>252776</td>\n",
       "      <td>249202</td>\n",
       "      <td>...</td>\n",
       "      <td>120519</td>\n",
       "      <td>334022</td>\n",
       "      <td>296677</td>\n",
       "      <td>426812</td>\n",
       "      <td>426810</td>\n",
       "      <td>0.0</td>\n",
       "      <td>426880</td>\n",
       "      <td>420331.000000</td>\n",
       "      <td>420331.000000</td>\n",
       "      <td>426812</td>\n",
       "    </tr>\n",
       "    <tr>\n",
       "      <th>unique</th>\n",
       "      <td>NaN</td>\n",
       "      <td>426880</td>\n",
       "      <td>404</td>\n",
       "      <td>413</td>\n",
       "      <td>NaN</td>\n",
       "      <td>NaN</td>\n",
       "      <td>42</td>\n",
       "      <td>29667</td>\n",
       "      <td>6</td>\n",
       "      <td>8</td>\n",
       "      <td>...</td>\n",
       "      <td>4</td>\n",
       "      <td>13</td>\n",
       "      <td>12</td>\n",
       "      <td>241899</td>\n",
       "      <td>360911</td>\n",
       "      <td>NaN</td>\n",
       "      <td>51</td>\n",
       "      <td>NaN</td>\n",
       "      <td>NaN</td>\n",
       "      <td>381536</td>\n",
       "    </tr>\n",
       "    <tr>\n",
       "      <th>top</th>\n",
       "      <td>NaN</td>\n",
       "      <td>https://philadelphia.craigslist.org/ctd/d/gain...</td>\n",
       "      <td>columbus</td>\n",
       "      <td>https://spokane.craigslist.org</td>\n",
       "      <td>NaN</td>\n",
       "      <td>NaN</td>\n",
       "      <td>ford</td>\n",
       "      <td>f-150</td>\n",
       "      <td>good</td>\n",
       "      <td>6 cylinders</td>\n",
       "      <td>...</td>\n",
       "      <td>full-size</td>\n",
       "      <td>sedan</td>\n",
       "      <td>white</td>\n",
       "      <td>https://images.craigslist.org/00N0N_1xMPvfxRAI...</td>\n",
       "      <td>35 VEHICLES PRICED UNDER $3000!!!  BIG TIME! T...</td>\n",
       "      <td>NaN</td>\n",
       "      <td>ca</td>\n",
       "      <td>NaN</td>\n",
       "      <td>NaN</td>\n",
       "      <td>2021-04-23T22:13:05-0400</td>\n",
       "    </tr>\n",
       "    <tr>\n",
       "      <th>freq</th>\n",
       "      <td>NaN</td>\n",
       "      <td>1</td>\n",
       "      <td>3608</td>\n",
       "      <td>2988</td>\n",
       "      <td>NaN</td>\n",
       "      <td>NaN</td>\n",
       "      <td>70985</td>\n",
       "      <td>8009</td>\n",
       "      <td>121456</td>\n",
       "      <td>94169</td>\n",
       "      <td>...</td>\n",
       "      <td>63465</td>\n",
       "      <td>87056</td>\n",
       "      <td>79285</td>\n",
       "      <td>7357</td>\n",
       "      <td>231</td>\n",
       "      <td>NaN</td>\n",
       "      <td>50614</td>\n",
       "      <td>NaN</td>\n",
       "      <td>NaN</td>\n",
       "      <td>12</td>\n",
       "    </tr>\n",
       "    <tr>\n",
       "      <th>mean</th>\n",
       "      <td>7.311487e+09</td>\n",
       "      <td>NaN</td>\n",
       "      <td>NaN</td>\n",
       "      <td>NaN</td>\n",
       "      <td>7.519903e+04</td>\n",
       "      <td>2011.235191</td>\n",
       "      <td>NaN</td>\n",
       "      <td>NaN</td>\n",
       "      <td>NaN</td>\n",
       "      <td>NaN</td>\n",
       "      <td>...</td>\n",
       "      <td>NaN</td>\n",
       "      <td>NaN</td>\n",
       "      <td>NaN</td>\n",
       "      <td>NaN</td>\n",
       "      <td>NaN</td>\n",
       "      <td>NaN</td>\n",
       "      <td>NaN</td>\n",
       "      <td>38.493940</td>\n",
       "      <td>-94.748599</td>\n",
       "      <td>NaN</td>\n",
       "    </tr>\n",
       "    <tr>\n",
       "      <th>std</th>\n",
       "      <td>4.473170e+06</td>\n",
       "      <td>NaN</td>\n",
       "      <td>NaN</td>\n",
       "      <td>NaN</td>\n",
       "      <td>1.218228e+07</td>\n",
       "      <td>9.452120</td>\n",
       "      <td>NaN</td>\n",
       "      <td>NaN</td>\n",
       "      <td>NaN</td>\n",
       "      <td>NaN</td>\n",
       "      <td>...</td>\n",
       "      <td>NaN</td>\n",
       "      <td>NaN</td>\n",
       "      <td>NaN</td>\n",
       "      <td>NaN</td>\n",
       "      <td>NaN</td>\n",
       "      <td>NaN</td>\n",
       "      <td>NaN</td>\n",
       "      <td>5.841533</td>\n",
       "      <td>18.365462</td>\n",
       "      <td>NaN</td>\n",
       "    </tr>\n",
       "    <tr>\n",
       "      <th>min</th>\n",
       "      <td>7.207408e+09</td>\n",
       "      <td>NaN</td>\n",
       "      <td>NaN</td>\n",
       "      <td>NaN</td>\n",
       "      <td>0.000000e+00</td>\n",
       "      <td>1900.000000</td>\n",
       "      <td>NaN</td>\n",
       "      <td>NaN</td>\n",
       "      <td>NaN</td>\n",
       "      <td>NaN</td>\n",
       "      <td>...</td>\n",
       "      <td>NaN</td>\n",
       "      <td>NaN</td>\n",
       "      <td>NaN</td>\n",
       "      <td>NaN</td>\n",
       "      <td>NaN</td>\n",
       "      <td>NaN</td>\n",
       "      <td>NaN</td>\n",
       "      <td>-84.122245</td>\n",
       "      <td>-159.827728</td>\n",
       "      <td>NaN</td>\n",
       "    </tr>\n",
       "    <tr>\n",
       "      <th>25%</th>\n",
       "      <td>7.308143e+09</td>\n",
       "      <td>NaN</td>\n",
       "      <td>NaN</td>\n",
       "      <td>NaN</td>\n",
       "      <td>5.900000e+03</td>\n",
       "      <td>2008.000000</td>\n",
       "      <td>NaN</td>\n",
       "      <td>NaN</td>\n",
       "      <td>NaN</td>\n",
       "      <td>NaN</td>\n",
       "      <td>...</td>\n",
       "      <td>NaN</td>\n",
       "      <td>NaN</td>\n",
       "      <td>NaN</td>\n",
       "      <td>NaN</td>\n",
       "      <td>NaN</td>\n",
       "      <td>NaN</td>\n",
       "      <td>NaN</td>\n",
       "      <td>34.601900</td>\n",
       "      <td>-111.939847</td>\n",
       "      <td>NaN</td>\n",
       "    </tr>\n",
       "    <tr>\n",
       "      <th>50%</th>\n",
       "      <td>7.312621e+09</td>\n",
       "      <td>NaN</td>\n",
       "      <td>NaN</td>\n",
       "      <td>NaN</td>\n",
       "      <td>1.395000e+04</td>\n",
       "      <td>2013.000000</td>\n",
       "      <td>NaN</td>\n",
       "      <td>NaN</td>\n",
       "      <td>NaN</td>\n",
       "      <td>NaN</td>\n",
       "      <td>...</td>\n",
       "      <td>NaN</td>\n",
       "      <td>NaN</td>\n",
       "      <td>NaN</td>\n",
       "      <td>NaN</td>\n",
       "      <td>NaN</td>\n",
       "      <td>NaN</td>\n",
       "      <td>NaN</td>\n",
       "      <td>39.150100</td>\n",
       "      <td>-88.432600</td>\n",
       "      <td>NaN</td>\n",
       "    </tr>\n",
       "    <tr>\n",
       "      <th>75%</th>\n",
       "      <td>7.315254e+09</td>\n",
       "      <td>NaN</td>\n",
       "      <td>NaN</td>\n",
       "      <td>NaN</td>\n",
       "      <td>2.648575e+04</td>\n",
       "      <td>2017.000000</td>\n",
       "      <td>NaN</td>\n",
       "      <td>NaN</td>\n",
       "      <td>NaN</td>\n",
       "      <td>NaN</td>\n",
       "      <td>...</td>\n",
       "      <td>NaN</td>\n",
       "      <td>NaN</td>\n",
       "      <td>NaN</td>\n",
       "      <td>NaN</td>\n",
       "      <td>NaN</td>\n",
       "      <td>NaN</td>\n",
       "      <td>NaN</td>\n",
       "      <td>42.398900</td>\n",
       "      <td>-80.832039</td>\n",
       "      <td>NaN</td>\n",
       "    </tr>\n",
       "    <tr>\n",
       "      <th>max</th>\n",
       "      <td>7.317101e+09</td>\n",
       "      <td>NaN</td>\n",
       "      <td>NaN</td>\n",
       "      <td>NaN</td>\n",
       "      <td>3.736929e+09</td>\n",
       "      <td>2022.000000</td>\n",
       "      <td>NaN</td>\n",
       "      <td>NaN</td>\n",
       "      <td>NaN</td>\n",
       "      <td>NaN</td>\n",
       "      <td>...</td>\n",
       "      <td>NaN</td>\n",
       "      <td>NaN</td>\n",
       "      <td>NaN</td>\n",
       "      <td>NaN</td>\n",
       "      <td>NaN</td>\n",
       "      <td>NaN</td>\n",
       "      <td>NaN</td>\n",
       "      <td>82.390818</td>\n",
       "      <td>173.885502</td>\n",
       "      <td>NaN</td>\n",
       "    </tr>\n",
       "  </tbody>\n",
       "</table>\n",
       "<p>11 rows × 26 columns</p>\n",
       "</div>"
      ],
      "text/plain": [
       "                  id                                                url  \\\n",
       "count   4.268800e+05                                             426880   \n",
       "unique           NaN                                             426880   \n",
       "top              NaN  https://philadelphia.craigslist.org/ctd/d/gain...   \n",
       "freq             NaN                                                  1   \n",
       "mean    7.311487e+09                                                NaN   \n",
       "std     4.473170e+06                                                NaN   \n",
       "min     7.207408e+09                                                NaN   \n",
       "25%     7.308143e+09                                                NaN   \n",
       "50%     7.312621e+09                                                NaN   \n",
       "75%     7.315254e+09                                                NaN   \n",
       "max     7.317101e+09                                                NaN   \n",
       "\n",
       "          region                      region_url         price           year  \\\n",
       "count     426880                          426880  4.268800e+05  425675.000000   \n",
       "unique       404                             413           NaN            NaN   \n",
       "top     columbus  https://spokane.craigslist.org           NaN            NaN   \n",
       "freq        3608                            2988           NaN            NaN   \n",
       "mean         NaN                             NaN  7.519903e+04    2011.235191   \n",
       "std          NaN                             NaN  1.218228e+07       9.452120   \n",
       "min          NaN                             NaN  0.000000e+00    1900.000000   \n",
       "25%          NaN                             NaN  5.900000e+03    2008.000000   \n",
       "50%          NaN                             NaN  1.395000e+04    2013.000000   \n",
       "75%          NaN                             NaN  2.648575e+04    2017.000000   \n",
       "max          NaN                             NaN  3.736929e+09    2022.000000   \n",
       "\n",
       "       manufacturer   model condition    cylinders  ...       size    type  \\\n",
       "count        409234  421603    252776       249202  ...     120519  334022   \n",
       "unique           42   29667         6            8  ...          4      13   \n",
       "top            ford   f-150      good  6 cylinders  ...  full-size   sedan   \n",
       "freq          70985    8009    121456        94169  ...      63465   87056   \n",
       "mean            NaN     NaN       NaN          NaN  ...        NaN     NaN   \n",
       "std             NaN     NaN       NaN          NaN  ...        NaN     NaN   \n",
       "min             NaN     NaN       NaN          NaN  ...        NaN     NaN   \n",
       "25%             NaN     NaN       NaN          NaN  ...        NaN     NaN   \n",
       "50%             NaN     NaN       NaN          NaN  ...        NaN     NaN   \n",
       "75%             NaN     NaN       NaN          NaN  ...        NaN     NaN   \n",
       "max             NaN     NaN       NaN          NaN  ...        NaN     NaN   \n",
       "\n",
       "       paint_color                                          image_url  \\\n",
       "count       296677                                             426812   \n",
       "unique          12                                             241899   \n",
       "top          white  https://images.craigslist.org/00N0N_1xMPvfxRAI...   \n",
       "freq         79285                                               7357   \n",
       "mean           NaN                                                NaN   \n",
       "std            NaN                                                NaN   \n",
       "min            NaN                                                NaN   \n",
       "25%            NaN                                                NaN   \n",
       "50%            NaN                                                NaN   \n",
       "75%            NaN                                                NaN   \n",
       "max            NaN                                                NaN   \n",
       "\n",
       "                                              description county   state  \\\n",
       "count                                              426810    0.0  426880   \n",
       "unique                                             360911    NaN      51   \n",
       "top     35 VEHICLES PRICED UNDER $3000!!!  BIG TIME! T...    NaN      ca   \n",
       "freq                                                  231    NaN   50614   \n",
       "mean                                                  NaN    NaN     NaN   \n",
       "std                                                   NaN    NaN     NaN   \n",
       "min                                                   NaN    NaN     NaN   \n",
       "25%                                                   NaN    NaN     NaN   \n",
       "50%                                                   NaN    NaN     NaN   \n",
       "75%                                                   NaN    NaN     NaN   \n",
       "max                                                   NaN    NaN     NaN   \n",
       "\n",
       "                  lat           long              posting_date  \n",
       "count   420331.000000  420331.000000                    426812  \n",
       "unique            NaN            NaN                    381536  \n",
       "top               NaN            NaN  2021-04-23T22:13:05-0400  \n",
       "freq              NaN            NaN                        12  \n",
       "mean        38.493940     -94.748599                       NaN  \n",
       "std          5.841533      18.365462                       NaN  \n",
       "min        -84.122245    -159.827728                       NaN  \n",
       "25%         34.601900    -111.939847                       NaN  \n",
       "50%         39.150100     -88.432600                       NaN  \n",
       "75%         42.398900     -80.832039                       NaN  \n",
       "max         82.390818     173.885502                       NaN  \n",
       "\n",
       "[11 rows x 26 columns]"
      ]
     },
     "execution_count": 46,
     "metadata": {},
     "output_type": "execute_result"
    }
   ],
   "source": [
    "data.describe(include=\"all\")"
   ]
  },
  {
   "cell_type": "code",
   "execution_count": 47,
   "id": "effea400",
   "metadata": {},
   "outputs": [
    {
     "data": {
      "text/plain": [
       "Index(['id', 'url', 'region', 'region_url', 'price', 'year', 'manufacturer',\n",
       "       'model', 'condition', 'cylinders', 'fuel', 'odometer', 'title_status',\n",
       "       'transmission', 'VIN', 'drive', 'size', 'type', 'paint_color',\n",
       "       'image_url', 'description', 'county', 'state', 'lat', 'long',\n",
       "       'posting_date'],\n",
       "      dtype='object')"
      ]
     },
     "execution_count": 47,
     "metadata": {},
     "output_type": "execute_result"
    }
   ],
   "source": [
    "data.columns"
   ]
  },
  {
   "cell_type": "code",
   "execution_count": 48,
   "id": "3062c62b",
   "metadata": {},
   "outputs": [
    {
     "name": "stdout",
     "output_type": "stream",
     "text": [
      "<class 'pandas.core.frame.DataFrame'>\n",
      "RangeIndex: 426880 entries, 0 to 426879\n",
      "Data columns (total 26 columns):\n",
      " #   Column        Non-Null Count   Dtype  \n",
      "---  ------        --------------   -----  \n",
      " 0   id            426880 non-null  int64  \n",
      " 1   url           426880 non-null  object \n",
      " 2   region        426880 non-null  object \n",
      " 3   region_url    426880 non-null  object \n",
      " 4   price         426880 non-null  int64  \n",
      " 5   year          425675 non-null  float64\n",
      " 6   manufacturer  409234 non-null  object \n",
      " 7   model         421603 non-null  object \n",
      " 8   condition     252776 non-null  object \n",
      " 9   cylinders     249202 non-null  object \n",
      " 10  fuel          423867 non-null  object \n",
      " 11  odometer      422480 non-null  float64\n",
      " 12  title_status  418638 non-null  object \n",
      " 13  transmission  424324 non-null  object \n",
      " 14  VIN           265838 non-null  object \n",
      " 15  drive         296313 non-null  object \n",
      " 16  size          120519 non-null  object \n",
      " 17  type          334022 non-null  object \n",
      " 18  paint_color   296677 non-null  object \n",
      " 19  image_url     426812 non-null  object \n",
      " 20  description   426810 non-null  object \n",
      " 21  county        0 non-null       float64\n",
      " 22  state         426880 non-null  object \n",
      " 23  lat           420331 non-null  float64\n",
      " 24  long          420331 non-null  float64\n",
      " 25  posting_date  426812 non-null  object \n",
      "dtypes: float64(5), int64(2), object(19)\n",
      "memory usage: 84.7+ MB\n"
     ]
    }
   ],
   "source": [
    "nn=data.shape[0]\n",
    "data.info()"
   ]
  },
  {
   "cell_type": "code",
   "execution_count": 49,
   "id": "1fd6ad7b",
   "metadata": {},
   "outputs": [],
   "source": [
    "#calculating the percentage of the null value or the missing value present in the particular column\n",
    "#so that we can remove it from the data\n",
    "\n",
    "miss_value=data.isnull().sum().sort_values()/len(data)\n",
    "miss_value=miss_value[miss_value!=0]"
   ]
  },
  {
   "cell_type": "code",
   "execution_count": 50,
   "id": "71756c16",
   "metadata": {},
   "outputs": [
    {
     "data": {
      "text/plain": [
       "<AxesSubplot:>"
      ]
     },
     "execution_count": 50,
     "metadata": {},
     "output_type": "execute_result"
    },
    {
     "data": {
      "image/png": "[encoded data removed]",
      "text/plain": [
       "<Figure size 432x288 with 1 Axes>"
      ]
     },
     "metadata": {
      "needs_background": "light"
     },
     "output_type": "display_data"
    }
   ],
   "source": [
    "miss_value.plot(kind='barh')"
   ]
  },
  {
   "cell_type": "markdown",
   "id": "46d8ff79",
   "metadata": {},
   "source": [
    "**Removing the column whose null value percentage is greater than 50 percent**"
   ]
  },
  {
   "cell_type": "code",
   "execution_count": 51,
   "id": "499f126c",
   "metadata": {},
   "outputs": [],
   "source": [
    "data=data.drop('county',axis='columns')\n",
    "data=data.drop('size',axis='columns')"
   ]
  },
  {
   "cell_type": "code",
   "execution_count": 52,
   "id": "1093627d",
   "metadata": {},
   "outputs": [
    {
     "data": {
      "text/plain": [
       "Index(['id', 'url', 'region', 'region_url', 'price', 'year', 'manufacturer',\n",
       "       'model', 'condition', 'cylinders', 'fuel', 'odometer', 'title_status',\n",
       "       'transmission', 'VIN', 'drive', 'type', 'paint_color', 'image_url',\n",
       "       'description', 'state', 'lat', 'long', 'posting_date'],\n",
       "      dtype='object')"
      ]
     },
     "execution_count": 52,
     "metadata": {},
     "output_type": "execute_result"
    }
   ],
   "source": [
    "data.columns"
   ]
  },
  {
   "cell_type": "markdown",
   "id": "bdd78882",
   "metadata": {},
   "source": [
    "# MANUFRACTURER"
   ]
  },
  {
   "cell_type": "code",
   "execution_count": 53,
   "id": "41895328",
   "metadata": {},
   "outputs": [
    {
     "data": {
      "text/plain": [
       "ford               70985\n",
       "chevrolet          55064\n",
       "toyota             34202\n",
       "honda              21269\n",
       "nissan             19067\n",
       "jeep               19014\n",
       "ram                18342\n",
       "gmc                16785\n",
       "bmw                14699\n",
       "dodge              13707\n",
       "mercedes-benz      11817\n",
       "hyundai            10338\n",
       "subaru              9495\n",
       "volkswagen          9345\n",
       "kia                 8457\n",
       "lexus               8200\n",
       "audi                7573\n",
       "cadillac            6953\n",
       "chrysler            6031\n",
       "acura               5978\n",
       "buick               5501\n",
       "mazda               5427\n",
       "infiniti            4802\n",
       "lincoln             4220\n",
       "volvo               3374\n",
       "mitsubishi          3292\n",
       "mini                2376\n",
       "pontiac             2288\n",
       "rover               2113\n",
       "jaguar              1946\n",
       "porsche             1384\n",
       "mercury             1184\n",
       "saturn              1090\n",
       "alfa-romeo           897\n",
       "tesla                868\n",
       "fiat                 792\n",
       "harley-davidson      153\n",
       "ferrari               95\n",
       "datsun                63\n",
       "aston-martin          24\n",
       "land rover            21\n",
       "morgan                 3\n",
       "Name: manufacturer, dtype: int64"
      ]
     },
     "execution_count": 53,
     "metadata": {},
     "output_type": "execute_result"
    }
   ],
   "source": [
    "#loading the brand column\n",
    "data_brand=data.manufacturer.value_counts()\n",
    "data_brand"
   ]
  },
  {
   "cell_type": "markdown",
   "id": "aa902510",
   "metadata": {},
   "source": [
    "TOP 10 BRANDS CAR IN USED VEHICLES"
   ]
  },
  {
   "cell_type": "code",
   "execution_count": 54,
   "id": "4a68acf5",
   "metadata": {},
   "outputs": [
    {
     "data": {
      "text/plain": [
       "<AxesSubplot:>"
      ]
     },
     "execution_count": 54,
     "metadata": {},
     "output_type": "execute_result"
    },
    {
     "data": {
      "image/png": "[encoded data removed]",
      "text/plain": [
       "<Figure size 432x288 with 1 Axes>"
      ]
     },
     "metadata": {
      "needs_background": "light"
     },
     "output_type": "display_data"
    }
   ],
   "source": [
    "data_brand[:10].plot(kind='bar')"
   ]
  },
  {
   "cell_type": "code",
   "execution_count": 55,
   "id": "c9790e5f",
   "metadata": {},
   "outputs": [
    {
     "data": {
      "text/plain": [
       "43"
      ]
     },
     "execution_count": 55,
     "metadata": {},
     "output_type": "execute_result"
    }
   ],
   "source": [
    "# Checking unique brand\n",
    "n=data.manufacturer.unique()\n",
    "len(n)"
   ]
  },
  {
   "cell_type": "code",
   "execution_count": 56,
   "id": "41075daa",
   "metadata": {},
   "outputs": [
    {
     "data": {
      "image/png": "[encoded data removed]",
      "text/plain": [
       "<Figure size 1440x432 with 1 Axes>"
      ]
     },
     "metadata": {},
     "output_type": "display_data"
    }
   ],
   "source": [
    "plot = data_brand[:20].plot.pie(subplots=True, figsize=(20, 6),autopct='%1.1f%%')"
   ]
  },
  {
   "cell_type": "markdown",
   "id": "eaa91fb9",
   "metadata": {},
   "source": [
    "**Observation**<br>\n",
    "1.Ford have the highest share in the used vehicles followed by chevrolet<br>\n",
    "2.Morgan brand have least number of vehicles in data it have only 3 vehicles<br>\n",
    "3.Total 43 number of the unique brand is there<br>"
   ]
  },
  {
   "cell_type": "markdown",
   "id": "2b3cb1fd",
   "metadata": {},
   "source": [
    "# Price"
   ]
  },
  {
   "cell_type": "code",
   "execution_count": 57,
   "id": "d5f3b954",
   "metadata": {},
   "outputs": [
    {
     "data": {
      "text/plain": [
       "0          6000\n",
       "1         11900\n",
       "2         21000\n",
       "3          1500\n",
       "4          4900\n",
       "          ...  \n",
       "426875    23590\n",
       "426876    30590\n",
       "426877    34990\n",
       "426878    28990\n",
       "426879    30590\n",
       "Name: price, Length: 426880, dtype: int64"
      ]
     },
     "execution_count": 57,
     "metadata": {},
     "output_type": "execute_result"
    }
   ],
   "source": [
    "data_price=data.price\n",
    "data_price"
   ]
  },
  {
   "cell_type": "code",
   "execution_count": 58,
   "id": "d489e62a",
   "metadata": {},
   "outputs": [
    {
     "data": {
      "text/plain": [
       "count    4.268800e+05\n",
       "mean     7.519903e+04\n",
       "std      1.218228e+07\n",
       "min      0.000000e+00\n",
       "25%      5.900000e+03\n",
       "50%      1.395000e+04\n",
       "75%      2.648575e+04\n",
       "max      3.736929e+09\n",
       "Name: price, dtype: float64"
      ]
     },
     "execution_count": 58,
     "metadata": {},
     "output_type": "execute_result"
    }
   ],
   "source": [
    "data_price.describe()"
   ]
  },
  {
   "cell_type": "code",
   "execution_count": 59,
   "id": "3a194d56",
   "metadata": {},
   "outputs": [],
   "source": [
    "## distributing in groups\n",
    "ranges = [0,1000,5000,14000,30000,70000,100000,1000000,10000000,4000000000]\n",
    "data_info=data_price.groupby(pd.cut(data_price, ranges)).count()/nn"
   ]
  },
  {
   "cell_type": "code",
   "execution_count": 60,
   "id": "6af91224",
   "metadata": {},
   "outputs": [
    {
     "data": {
      "text/plain": [
       "<AxesSubplot:xlabel='price', ylabel='count'>"
      ]
     },
     "execution_count": 60,
     "metadata": {},
     "output_type": "execute_result"
    },
    {
     "data": {
      "image/png": "[encoded data removed]",
      "text/plain": [
       "<Figure size 432x288 with 1 Axes>"
      ]
     },
     "metadata": {
      "needs_background": "light"
     },
     "output_type": "display_data"
    }
   ],
   "source": [
    "data_info.plot(kind='bar',ylabel='count')"
   ]
  },
  {
   "cell_type": "code",
   "execution_count": 61,
   "id": "a3629023",
   "metadata": {},
   "outputs": [
    {
     "name": "stdout",
     "output_type": "stream",
     "text": [
      "Average price of a ford car is: 36411.72\n"
     ]
    }
   ],
   "source": [
    "# Average price of ford\n",
    "data_price_ford=data[data['manufacturer']=='ford'].price\n",
    "avg_ford_price=data_price_ford.sum()/len(data_price_ford)\n",
    "print(\"Average price of a ford car is:\",avg_ford_price.round(2))"
   ]
  },
  {
   "cell_type": "markdown",
   "id": "68851c86",
   "metadata": {},
   "source": [
    "As earlier in this analysis we had seen the approx 20% of the used car is of ford company\n",
    "So in this price analysis we can see the average price of the used ford car Which is-36411"
   ]
  },
  {
   "cell_type": "code",
   "execution_count": 62,
   "id": "04d16f66",
   "metadata": {},
   "outputs": [
    {
     "data": {
      "text/plain": [
       "[36411.72,\n",
       " 115676.1,\n",
       " 234294.68,\n",
       " 10751.36,\n",
       " 18827.33,\n",
       " 150717.82,\n",
       " 27728.34,\n",
       " 30405.88,\n",
       " 26740.26,\n",
       " 15003.2,\n",
       " 531710.56,\n",
       " 10719.66,\n",
       " 13055.51]"
      ]
     },
     "execution_count": 62,
     "metadata": {},
     "output_type": "execute_result"
    }
   ],
   "source": [
    "#Average price of the top 13 brands car\n",
    "l_car=['ford','chevrolet','toyota','honda','nissan','jeep','ram','gmc','bmw','dodge','mercedes-benz','hyundai','subaru']\n",
    "avg_price_brand=[]\n",
    "for i in l_car:\n",
    " data_price_b=data[data['manufacturer']==i].price\n",
    " avg_price_brand.append((data_price_b.sum()/len(data_price_b)).round(2))\n",
    "avg_price_brand    "
   ]
  },
  {
   "cell_type": "code",
   "execution_count": 63,
   "id": "090c0dc3",
   "metadata": {},
   "outputs": [
    {
     "data": {
      "text/plain": [
       "[<matplotlib.lines.Line2D at 0x2a1a3f343d0>]"
      ]
     },
     "execution_count": 63,
     "metadata": {},
     "output_type": "execute_result"
    },
    {
     "data": {
      "image/png": "[encoded data removed]",
      "text/plain": [
       "<Figure size 1440x720 with 1 Axes>"
      ]
     },
     "metadata": {
      "needs_background": "light"
     },
     "output_type": "display_data"
    }
   ],
   "source": [
    "#Ploting the data\n",
    "f = plt.figure()\n",
    "f.set_figwidth(20)\n",
    "f.set_figheight(10)\n",
    "plt.xlabel('car-brand')\n",
    "plt.ylabel('averge-price')\n",
    "plt.plot(l_car,avg_price_brand)"
   ]
  },
  {
   "cell_type": "markdown",
   "id": "2735848a",
   "metadata": {},
   "source": [
    "**Observation**<br>\n",
    " 1.Mercedes-benz brand have the highest average price which means in market it have good resale value<br>\n",
    " 2.Honda have least resale value<br>\n",
    " 3.Average price of most of the brand is below 100000<br>\n",
    " 4.From the above analysis we can conclude that above 30% of the used car are in the price ranges of the (14000,30000)\n",
    "   and above 25% of used car in (5000,14000)"
   ]
  },
  {
   "cell_type": "markdown",
   "id": "1946159f",
   "metadata": {},
   "source": [
    "# Odometer"
   ]
  },
  {
   "cell_type": "code",
   "execution_count": 64,
   "id": "63a4470f",
   "metadata": {},
   "outputs": [
    {
     "data": {
      "text/plain": [
       "0             NaN\n",
       "1             NaN\n",
       "2             NaN\n",
       "3             NaN\n",
       "4             NaN\n",
       "           ...   \n",
       "426875    32226.0\n",
       "426876    12029.0\n",
       "426877     4174.0\n",
       "426878    30112.0\n",
       "426879    22716.0\n",
       "Name: odometer, Length: 426880, dtype: float64"
      ]
     },
     "execution_count": 64,
     "metadata": {},
     "output_type": "execute_result"
    }
   ],
   "source": [
    "data_odo=data.odometer\n",
    "data_odo"
   ]
  },
  {
   "cell_type": "code",
   "execution_count": 65,
   "id": "d31e316d",
   "metadata": {},
   "outputs": [
    {
     "data": {
      "text/plain": [
       "4400"
      ]
     },
     "execution_count": 65,
     "metadata": {},
     "output_type": "execute_result"
    }
   ],
   "source": [
    "data_odo.isnull().sum()"
   ]
  },
  {
   "cell_type": "markdown",
   "id": "5dc0ef86",
   "metadata": {},
   "source": [
    "HERE 4400 VALUE HAVE NULL VALUE IN THE ODOMETER COLUMN\n",
    "SO WE ARE GOING TO DROP THAT BECAUSE OUR DATA CONTAIN ABOVE 4LAKH VALUES"
   ]
  },
  {
   "cell_type": "code",
   "execution_count": 66,
   "id": "5f4ca1e2",
   "metadata": {},
   "outputs": [
    {
     "data": {
      "text/plain": [
       "0"
      ]
     },
     "execution_count": 66,
     "metadata": {},
     "output_type": "execute_result"
    }
   ],
   "source": [
    "data_odo_fresh=data_odo.dropna(how='any')\n",
    "data_odo_fresh.isnull().sum()"
   ]
  },
  {
   "cell_type": "code",
   "execution_count": 67,
   "id": "9c1c8ab7",
   "metadata": {},
   "outputs": [
    {
     "data": {
      "text/plain": [
       "count    4.224800e+05\n",
       "mean     9.804333e+04\n",
       "std      2.138815e+05\n",
       "min      0.000000e+00\n",
       "25%      3.770400e+04\n",
       "50%      8.554800e+04\n",
       "75%      1.335425e+05\n",
       "max      1.000000e+07\n",
       "Name: odometer, dtype: float64"
      ]
     },
     "execution_count": 67,
     "metadata": {},
     "output_type": "execute_result"
    }
   ],
   "source": [
    "data_odo.describe()"
   ]
  },
  {
   "cell_type": "code",
   "execution_count": 68,
   "id": "a90a62e2",
   "metadata": {},
   "outputs": [],
   "source": [
    "ranges = [0,1000,5000,10000,30000,50000,100000,500000,10000000]\n",
    "odo_info=data_odo_fresh.groupby(pd.cut(data_odo_fresh,ranges)).count()/nn"
   ]
  },
  {
   "cell_type": "code",
   "execution_count": 69,
   "id": "adc11e29",
   "metadata": {},
   "outputs": [
    {
     "data": {
      "text/plain": [
       "<AxesSubplot:xlabel='odometer', ylabel='count'>"
      ]
     },
     "execution_count": 69,
     "metadata": {},
     "output_type": "execute_result"
    },
    {
     "data": {
      "image/png": "[encoded data removed]",
      "text/plain": [
       "<Figure size 432x288 with 1 Axes>"
      ]
     },
     "metadata": {
      "needs_background": "light"
     },
     "output_type": "display_data"
    }
   ],
   "source": [
    "odo_info.plot(kind='bar',ylabel='count')"
   ]
  },
  {
   "cell_type": "markdown",
   "id": "307d0e1f",
   "metadata": {},
   "source": [
    "**NOW WE CAN DO ONE MORE ANALYSIS TO CHECK THE AVERAGE ODOMETER READING OF TOP 13 CAR BRANDS**"
   ]
  },
  {
   "cell_type": "code",
   "execution_count": 70,
   "id": "6de94b36",
   "metadata": {},
   "outputs": [
    {
     "data": {
      "text/plain": [
       "13"
      ]
     },
     "execution_count": 70,
     "metadata": {},
     "output_type": "execute_result"
    }
   ],
   "source": [
    "len(l_car)"
   ]
  },
  {
   "cell_type": "code",
   "execution_count": 71,
   "id": "fb5d2d67",
   "metadata": {},
   "outputs": [],
   "source": [
    "#Average odometer reading of top brands\n",
    "avg_odo_brand=[]\n",
    "for i in l_car:\n",
    " data_odo_b=data[data['manufacturer']==i].odometer\n",
    " avg_odo_brand.append((data_odo_b.sum()/len(data_odo_b)).round(2))"
   ]
  },
  {
   "cell_type": "code",
   "execution_count": 72,
   "id": "5ac994bf",
   "metadata": {},
   "outputs": [
    {
     "data": {
      "text/plain": [
       "[106509.79,\n",
       " 104917.3,\n",
       " 105857.97,\n",
       " 113929.72,\n",
       " 90576.67,\n",
       " 86590.94,\n",
       " 96992.86,\n",
       " 105692.26,\n",
       " 75726.86,\n",
       " 89346.98,\n",
       " 78778.31,\n",
       " 85989.48,\n",
       " 97032.87]"
      ]
     },
     "execution_count": 72,
     "metadata": {},
     "output_type": "execute_result"
    }
   ],
   "source": [
    "avg_odo_brand"
   ]
  },
  {
   "cell_type": "code",
   "execution_count": 73,
   "id": "87f9372a",
   "metadata": {},
   "outputs": [
    {
     "data": {
      "text/plain": [
       "[<matplotlib.lines.Line2D at 0x2a1a400a430>]"
      ]
     },
     "execution_count": 73,
     "metadata": {},
     "output_type": "execute_result"
    },
    {
     "data": {
      "image/png": "[encoded data removed]",
      "text/plain": [
       "<Figure size 1440x720 with 1 Axes>"
      ]
     },
     "metadata": {
      "needs_background": "light"
     },
     "output_type": "display_data"
    }
   ],
   "source": [
    "f = plt.figure()\n",
    "f.set_figwidth(20)\n",
    "f.set_figheight(10)\n",
    "plt.xlabel('car-brand')\n",
    "plt.ylabel('averge-odometer-reading')\n",
    "plt.plot(l_car,avg_odo_brand)"
   ]
  },
  {
   "cell_type": "markdown",
   "id": "2aa85f95",
   "metadata": {},
   "source": [
    " **OBSERVATION**<br>\n",
    "1.Honda have the highest odometer reading means it is very relevent brand<br>\n",
    "2.BMW have the lowest odometer reading and in above price analysis you have seen that price of bmw is also low  by which we can say that people are not happy with  brand and they are selling it in low price with less kilometer driven<br>\n",
    "3.We can see some dependency of price on odometer reading as Honda Cars have high odometer driven as it have low resale price and you can see vice-versa in mercedes-benz<br>\n",
    "4.Over 40% of the used car have odometer reading in range of (100000,500000)<br>"
   ]
  },
  {
   "cell_type": "markdown",
   "id": "754145f3",
   "metadata": {},
   "source": [
    "# YEAR"
   ]
  },
  {
   "cell_type": "code",
   "execution_count": 74,
   "id": "1013295e",
   "metadata": {},
   "outputs": [
    {
     "data": {
      "text/plain": [
       "115"
      ]
     },
     "execution_count": 74,
     "metadata": {},
     "output_type": "execute_result"
    }
   ],
   "source": [
    "data_year=data.year\n",
    "len(pd.unique(data_year))"
   ]
  },
  {
   "cell_type": "code",
   "execution_count": 75,
   "id": "9e5858d2",
   "metadata": {},
   "outputs": [
    {
     "data": {
      "text/plain": [
       "count    425675.000000\n",
       "mean       2011.235191\n",
       "std           9.452120\n",
       "min        1900.000000\n",
       "25%        2008.000000\n",
       "50%        2013.000000\n",
       "75%        2017.000000\n",
       "max        2022.000000\n",
       "Name: year, dtype: float64"
      ]
     },
     "execution_count": 75,
     "metadata": {},
     "output_type": "execute_result"
    }
   ],
   "source": [
    "data_year.describe()"
   ]
  },
  {
   "cell_type": "code",
   "execution_count": 76,
   "id": "eb2879b9",
   "metadata": {},
   "outputs": [
    {
     "data": {
      "text/plain": [
       "1205"
      ]
     },
     "execution_count": 76,
     "metadata": {},
     "output_type": "execute_result"
    }
   ],
   "source": [
    "data.year.isnull().sum()"
   ]
  },
  {
   "cell_type": "code",
   "execution_count": 77,
   "id": "6baf9af6",
   "metadata": {},
   "outputs": [
    {
     "data": {
      "text/plain": [
       "0"
      ]
     },
     "execution_count": 77,
     "metadata": {},
     "output_type": "execute_result"
    }
   ],
   "source": [
    "data_year_fresh=data_year.dropna(how='any')\n",
    "data_year_fresh.isnull().sum()"
   ]
  },
  {
   "cell_type": "code",
   "execution_count": 78,
   "id": "757258cc",
   "metadata": {},
   "outputs": [
    {
     "data": {
      "text/plain": [
       "<AxesSubplot:xlabel='year', ylabel='Count'>"
      ]
     },
     "execution_count": 78,
     "metadata": {},
     "output_type": "execute_result"
    },
    {
     "data": {
      "image/png": "[encoded data removed]",
      "text/plain": [
       "<Figure size 432x288 with 1 Axes>"
      ]
     },
     "metadata": {
      "needs_background": "light"
     },
     "output_type": "display_data"
    }
   ],
   "source": [
    "sns.histplot(data_year_fresh,bins=12,binwidth=10)"
   ]
  },
  {
   "cell_type": "code",
   "execution_count": 79,
   "id": "b64c06cb",
   "metadata": {},
   "outputs": [
    {
     "data": {
      "text/plain": [
       "61289.107142857145"
      ]
     },
     "execution_count": 79,
     "metadata": {},
     "output_type": "execute_result"
    }
   ],
   "source": [
    "# vintage car\n",
    "data_vintage=data[data.year<1905]\n",
    "data_vintage.price.sum()/data_vintage.shape[0]"
   ]
  },
  {
   "cell_type": "code",
   "execution_count": 80,
   "id": "738bd734",
   "metadata": {},
   "outputs": [
    {
     "data": {
      "text/plain": [
       "1269126.2728351126"
      ]
     },
     "execution_count": 80,
     "metadata": {},
     "output_type": "execute_result"
    }
   ],
   "source": [
    "# new car in sale\n",
    "data_new=data[data.year>2020]\n",
    "data_new.price.sum()/data_new.shape[0]"
   ]
  },
  {
   "cell_type": "code",
   "execution_count": 81,
   "id": "91cace59",
   "metadata": {},
   "outputs": [
    {
     "data": {
      "text/plain": [
       "[0, 50679.87, 22749.84, 27255.94, 371806.26, 409283.98, 124487.87, 35538.57]"
      ]
     },
     "execution_count": 81,
     "metadata": {},
     "output_type": "execute_result"
    }
   ],
   "source": [
    "#cheaking price year wise\n",
    "p=[]\n",
    "p.append(0)\n",
    "y=[1900,1920,1940,1960,1980,2000,2010,2022]\n",
    "avg_price_year=[]\n",
    "for i in range(len(y)-1):\n",
    "  k=data[(data['year']>=y[i]) & (data['year']<y[i+1])].price\n",
    "  p.append((k.sum()/len(k)).round(2))\n",
    "p    "
   ]
  },
  {
   "cell_type": "code",
   "execution_count": 82,
   "id": "e8c7a760",
   "metadata": {},
   "outputs": [
    {
     "data": {
      "text/plain": [
       "[<matplotlib.lines.Line2D at 0x2a1a3f5f5e0>]"
      ]
     },
     "execution_count": 82,
     "metadata": {},
     "output_type": "execute_result"
    },
    {
     "data": {
      "image/png": "[encoded data removed]",
      "text/plain": [
       "<Figure size 720x360 with 1 Axes>"
      ]
     },
     "metadata": {
      "needs_background": "light"
     },
     "output_type": "display_data"
    }
   ],
   "source": [
    "f = plt.figure()\n",
    "f.set_figwidth(10)\n",
    "f.set_figheight(5)\n",
    "plt.xlabel('year')\n",
    "plt.ylabel('price')\n",
    "plt.plot(y,p)"
   ]
  },
  {
   "cell_type": "markdown",
   "id": "dc9757ed",
   "metadata": {},
   "source": [
    "**OBSERVATION**<br>\n",
    "1.Most of the car are from 2010 to 2020<br>\n",
    "2.There are some vintage car from year which are more than 100 year old<br>\n",
    "3.Average price of vintage cars(1900-1905) 61289<br>\n",
    "4.Average price of new cars(2000-2022) 1269126<br>\n",
    "5.Car from year (1980-2000) have the highest average price of above 400000<br>"
   ]
  },
  {
   "cell_type": "markdown",
   "id": "d7454ca0",
   "metadata": {},
   "source": [
    "**MORE ANALYSIS ON TYPES OF CAR,FUEL TYPE,CONDITION OF VEHICLES**"
   ]
  },
  {
   "cell_type": "code",
   "execution_count": 109,
   "id": "9e891767",
   "metadata": {},
   "outputs": [
    {
     "data": {
      "text/plain": [
       "gas         356209\n",
       "other        30728\n",
       "diesel       30062\n",
       "hybrid        5170\n",
       "electric      1698\n",
       "Name: fuel, dtype: int64"
      ]
     },
     "execution_count": 109,
     "metadata": {},
     "output_type": "execute_result"
    }
   ],
   "source": [
    "data_fuel=data.fuel.value_counts()\n",
    "data_fuel"
   ]
  },
  {
   "cell_type": "code",
   "execution_count": 117,
   "id": "87259966",
   "metadata": {},
   "outputs": [
    {
     "data": {
      "image/png": "[encoded data removed]",
      "text/plain": [
       "<Figure size 2880x576 with 1 Axes>"
      ]
     },
     "metadata": {},
     "output_type": "display_data"
    }
   ],
   "source": [
    "plot = data_fuel.plot.pie(subplots=True, figsize=(40, 8),autopct='%1.1f%%')"
   ]
  },
  {
   "cell_type": "code",
   "execution_count": 123,
   "id": "bc8df71e",
   "metadata": {},
   "outputs": [
    {
     "data": {
      "text/plain": [
       "sedan          87056\n",
       "SUV            77284\n",
       "pickup         43510\n",
       "truck          35279\n",
       "other          22110\n",
       "coupe          19204\n",
       "hatchback      16598\n",
       "wagon          10751\n",
       "van             8548\n",
       "convertible     7731\n",
       "mini-van        4825\n",
       "offroad          609\n",
       "bus              517\n",
       "Name: type, dtype: int64"
      ]
     },
     "execution_count": 123,
     "metadata": {},
     "output_type": "execute_result"
    }
   ],
   "source": [
    "data_type=data.type.value_counts()\n",
    "data_type"
   ]
  },
  {
   "cell_type": "code",
   "execution_count": 127,
   "id": "9e71514e",
   "metadata": {},
   "outputs": [
    {
     "data": {
      "image/png": "[encoded data removed]",
      "text/plain": [
       "<Figure size 1440x432 with 1 Axes>"
      ]
     },
     "metadata": {
      "needs_background": "light"
     },
     "output_type": "display_data"
    }
   ],
   "source": [
    "fig, ax = plt.subplots(figsize=(20, 6))\n",
    "sns.countplot(x=data.type,data=data)\n",
    "plt.show()"
   ]
  },
  {
   "cell_type": "code",
   "execution_count": 88,
   "id": "f55022a9",
   "metadata": {
    "scrolled": true
   },
   "outputs": [
    {
     "data": {
      "image/png": "[encoded data removed]",
      "text/plain": [
       "<Figure size 1440x432 with 1 Axes>"
      ]
     },
     "metadata": {
      "needs_background": "light"
     },
     "output_type": "display_data"
    }
   ],
   "source": [
    "fig, ax = plt.subplots(figsize=(20, 6))\n",
    "sns.countplot(x=data.condition,data=data)\n",
    "plt.show()"
   ]
  },
  {
   "cell_type": "markdown",
   "id": "2f522933",
   "metadata": {},
   "source": [
    "**OBSERVATION**<br>\n",
    "1.84% of the vehicles have the fuel type Gas<br>\n",
    "2.Electric vehicles are very low it have 0.4% share in used vehicles<br>\n",
    "3.13 Unique types of vehicle is there<br>\n",
    "4.Most of the car are from sedan type above(87056) and there are very low number of buses(517)<br>\n",
    "5.Above 120000 vehicles are in good condition"
   ]
  },
  {
   "cell_type": "code",
   "execution_count": null,
   "id": "48cb81cb",
   "metadata": {},
   "outputs": [],
   "source": []
  },
  {
   "cell_type": "code",
   "execution_count": null,
   "id": "d146abe2",
   "metadata": {},
   "outputs": [],
   "source": []
  },
  {
   "cell_type": "code",
   "execution_count": null,
   "id": "18b57949",
   "metadata": {},
   "outputs": [],
   "source": []
  },
  {
   "cell_type": "code",
   "execution_count": null,
   "id": "cf224103",
   "metadata": {},
   "outputs": [],
   "source": []
  },
  {
   "cell_type": "code",
   "execution_count": null,
   "id": "e79ac01a",
   "metadata": {},
   "outputs": [],
   "source": []
  }
 ],
 "metadata": {
  "kernelspec": {
   "display_name": "Python 3",
   "language": "python",
   "name": "python3"
  },
  "language_info": {
   "codemirror_mode": {
    "name": "ipython",
    "version": 3
   },
   "file_extension": ".py",
   "mimetype": "text/x-python",
   "name": "python",
   "nbconvert_exporter": "python",
   "pygments_lexer": "ipython3",
   "version": "3.8.8"
  }
 },
 "nbformat": 4,
 "nbformat_minor": 5
}
